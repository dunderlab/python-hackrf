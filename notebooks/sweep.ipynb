{
 "cells": [
  {
   "cell_type": "code",
   "execution_count": 1,
   "id": "d5ef5a3a-3432-440b-8718-f6b119e1f333",
   "metadata": {},
   "outputs": [],
   "source": [
    "import sys\n",
    "sys.path.append('../')"
   ]
  },
  {
   "cell_type": "code",
   "execution_count": 2,
   "id": "80846069-5966-4f0c-bb95-3f15e0d7b126",
   "metadata": {},
   "outputs": [],
   "source": [
    "import sys\n",
    "sys.path.append('/usr/local/lib/wingpro10')\n",
    "import wingdbstub"
   ]
  },
  {
   "cell_type": "code",
   "execution_count": 3,
   "id": "11e777be-6f39-4e07-9bce-7ee70f07672a",
   "metadata": {},
   "outputs": [],
   "source": [
    "from hackrf import HackRF, ScanHackRF\n",
    "# needed to plot\n",
    "import numpy as np\n",
    "from matplotlib.pylab import psd"
   ]
  },
  {
   "cell_type": "code",
   "execution_count": 4,
   "id": "2e04494c-1d3c-4ea4-8dc8-58524548a173",
   "metadata": {},
   "outputs": [],
   "source": [
    "scanhackrf = ScanHackRF(0)"
   ]
  },
  {
   "cell_type": "code",
   "execution_count": 5,
   "id": "0075e534-f413-4be3-a4c7-8a6ae421d526",
   "metadata": {},
   "outputs": [],
   "source": [
    "scanhackrf.scan(100, 120)"
   ]
  }
 ],
 "metadata": {
  "kernelspec": {
   "display_name": "Python 3 (ipykernel)",
   "language": "python",
   "name": "python3"
  },
  "language_info": {
   "codemirror_mode": {
    "name": "ipython",
    "version": 3
   },
   "file_extension": ".py",
   "mimetype": "text/x-python",
   "name": "python",
   "nbconvert_exporter": "python",
   "pygments_lexer": "ipython3",
   "version": "3.12.5"
  }
 },
 "nbformat": 4,
 "nbformat_minor": 5
}
