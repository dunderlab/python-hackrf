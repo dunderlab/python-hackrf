{
 "cells": [
  {
   "cell_type": "code",
   "execution_count": 1,
   "id": "96b73faa-7449-46d2-8a31-04837d78e310",
   "metadata": {},
   "outputs": [],
   "source": [
    "import sys\n",
    "sys.path.append('../../python-hackrf/')"
   ]
  },
  {
   "cell_type": "code",
   "execution_count": 2,
   "id": "fce97da3-e0a1-4b91-8751-40897a770420",
   "metadata": {},
   "outputs": [],
   "source": [
    "import sys\n",
    "sys.path.append('/usr/local/lib/wingpro10')\n",
    "import wingdbstub"
   ]
  },
  {
   "cell_type": "code",
   "execution_count": 3,
   "id": "dbbfd134-87ca-41ee-a0a9-a14498158568",
   "metadata": {},
   "outputs": [],
   "source": [
    "from hackrf import HackRF\n",
    "# needed to plot\n",
    "import numpy as np\n",
    "from matplotlib.pylab import psd"
   ]
  },
  {
   "cell_type": "code",
   "execution_count": 8,
   "id": "eb9bcdd6-c16e-4955-80f4-dd5de08e29af",
   "metadata": {},
   "outputs": [
    {
     "name": "stdout",
     "output_type": "stream",
     "text": [
      "(100000000,) 32748\n"
     ]
    }
   ],
   "source": [
    "samples = None\n",
    "def pipe(data):\n",
    "    global samples\n",
    "\n",
    "    samples = list(data.values())\n",
    "\n",
    "    for k in data:\n",
    "        print(k, len(data[k]))\n",
    "    \n",
    "    # hackrf.close()\n",
    "    return True\n",
    "\n",
    "hackrf = HackRF(0)\n",
    "\n",
    "hackrf.sample_rate = 10e6\n",
    "step_width=20e6\n",
    "\n",
    "step_offset = 10e3\n",
    "\n",
    "hackrf.start_sweep(\n",
    "    [\n",
    "        (100, 120),\n",
    "        # (500, 700),\n",
    "    ],\n",
    "    \n",
    "    pipe_function=pipe,\n",
    "    step_width=step_width,\n",
    "    num_bytes = 16384*10,\n",
    "    step_offset = step_offset,\n",
    "    interleaved=False,\n",
    ")\n"
   ]
  },
  {
   "cell_type": "code",
   "execution_count": 5,
   "id": "cfa75931-253a-4a1a-bed9-597f1eddf223",
   "metadata": {},
   "outputs": [
    {
     "data": {
      "text/plain": [
       "16374.0"
      ]
     },
     "execution_count": 5,
     "metadata": {},
     "output_type": "execute_result"
    }
   ],
   "source": [
    "32748/2"
   ]
  },
  {
   "cell_type": "code",
   "execution_count": null,
   "id": "5ccca24f-fafe-4c9b-9e03-698102c31bad",
   "metadata": {},
   "outputs": [],
   "source": [
    "262144/16"
   ]
  },
  {
   "cell_type": "code",
   "execution_count": null,
   "id": "fd517b5b-407b-48ca-9467-eff3036c1992",
   "metadata": {},
   "outputs": [],
   "source": [
    "hackrf = HackRF(0)\n",
    "\n",
    "hackrf.sample_rate = 20e6\n",
    "hackrf.center_freq = 88.5e6\n",
    "\n",
    "samples = hackrf.read_samples(2e6)\n",
    "\n",
    "psd(samples, NFFT=1024, Fs=hackrf.sample_rate/1e6, Fc=hackrf.center_freq/1e6)\n",
    "\n",
    "hackrf.close()"
   ]
  },
  {
   "cell_type": "code",
   "execution_count": null,
   "id": "51b1a383-7094-4bd1-9417-6824113b1b21",
   "metadata": {},
   "outputs": [],
   "source": [
    "def pipe(data):\n",
    "    # Procesamiento de datos con el Detector RMS y el filtro de 9 kHz\n",
    "    for freq, samples in data.items():\n",
    "        # Convertir los datos a un array numpy de complejos IQ\n",
    "        # iq_data = np.array(samples).astype(np.int8).astype(np.float64).view(np.complex128)\n",
    "\n",
    "        values = np.array(samples).astype(np.int8)\n",
    "        iq_data = values.astype(np.float64).view(np.complex128)\n",
    "        iq_data /= 127.5\n",
    "        iq_data -= 1 + 1j\n",
    "        \n",
    "        # Filtrar con un ancho de banda de 9 kHz (emulación en software)\n",
    "        # Aquí podrías aplicar un filtro pasa-banda de 9 kHz centrado en la frecuencia de interés\n",
    "        # filtered_data = apply_bandpass_filter(iq_data, lowcut=-4.5e3, highcut=4.5e3, fs=hackrf.sample_rate)\n",
    "        filtered_data = iq_data\n",
    "        \n",
    "        # Calcular el valor RMS\n",
    "        rms_value = np.sqrt(np.mean(np.abs(filtered_data)**2))\n",
    "        print(f\"RMS at {freq} Hz: {rms_value}\")\n",
    "    \n",
    "    # Cerrar el dispositivo y detener el barrido\n",
    "    # hackrf.close()\n",
    "    return True\n",
    "\n",
    "hackrf = HackRF(0)\n",
    "\n",
    "# Configurar la tasa de muestreo para cubrir un span de 20 MHz\n",
    "hackrf.sample_rate = 20e6\n",
    "\n",
    "# Configurar el paso de frecuencia (Step Width) en 20 kHz\n",
    "step_width = 20e3\n",
    "\n",
    "step_offset = 10e3\n",
    "\n",
    "\n",
    "hackrf.start_sweep(\n",
    "    [\n",
    "        (100, 200),  # Cambié el rango a 100e6-120e6 para que coincida mejor con el contexto\n",
    "    ],\n",
    "    pipe_function=pipe,\n",
    "    step_width=step_width,\n",
    "    num_bytes = 16384,\n",
    "    step_offset = step_offset,\n",
    "    interleaved=False,\n",
    ")\n"
   ]
  },
  {
   "cell_type": "code",
   "execution_count": null,
   "id": "089d61f8-beb6-4665-82fb-f96ae14d58d9",
   "metadata": {},
   "outputs": [],
   "source": [
    "# 16384"
   ]
  },
  {
   "cell_type": "code",
   "execution_count": null,
   "id": "0edec952-6e71-48a0-b515-45bf2ff7d8ca",
   "metadata": {},
   "outputs": [],
   "source": [
    "len(samples[0])"
   ]
  },
  {
   "cell_type": "code",
   "execution_count": null,
   "id": "0a275550-56d3-48dc-ba6b-d9b8b4648a45",
   "metadata": {},
   "outputs": [],
   "source": [
    "values = np.array(samples[0]).astype(np.int8)\n",
    "values.shape"
   ]
  },
  {
   "cell_type": "code",
   "execution_count": null,
   "id": "dcbc5f78-bcfb-4f23-8591-14790bf4cb01",
   "metadata": {},
   "outputs": [],
   "source": [
    "values.astype(np.float64).view(np.complex128)"
   ]
  },
  {
   "cell_type": "code",
   "execution_count": null,
   "id": "6202240c-b811-4027-b6d1-73e78c6aba60",
   "metadata": {},
   "outputs": [],
   "source": [
    "values.astype(np.float64).view(np.complex128)\n",
    "iq_data"
   ]
  },
  {
   "cell_type": "code",
   "execution_count": null,
   "id": "6b67d029-2377-49ed-a544-244b15015da8",
   "metadata": {},
   "outputs": [],
   "source": []
  }
 ],
 "metadata": {
  "kernelspec": {
   "display_name": "Python 3 (ipykernel)",
   "language": "python",
   "name": "python3"
  },
  "language_info": {
   "codemirror_mode": {
    "name": "ipython",
    "version": 3
   },
   "file_extension": ".py",
   "mimetype": "text/x-python",
   "name": "python",
   "nbconvert_exporter": "python",
   "pygments_lexer": "ipython3",
   "version": "3.12.5"
  }
 },
 "nbformat": 4,
 "nbformat_minor": 5
}
