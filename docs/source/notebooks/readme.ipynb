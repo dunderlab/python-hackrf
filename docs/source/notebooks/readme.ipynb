{
 "cells": [
  {
   "cell_type": "markdown",
   "id": "6bd81ddc-0108-4f60-a9d4-b05210b31c4c",
   "metadata": {
    "editable": true,
    "slideshow": {
     "slide_type": ""
    },
    "tags": []
   },
   "source": [
    "# Python HackRF"
   ]
  },
  {
   "cell_type": "markdown",
   "id": "fe5c23d2-f725-41c6-b7e8-3c8155392758",
   "metadata": {},
   "source": [
    "## Installation Instructions\n",
    "\n",
    "To install the required dependencies for this project, you can use the following command:\n",
    "\n",
    "```bash\n",
    "pip install libhackrf\n",
    "```"
   ]
  },
  {
   "cell_type": "markdown",
   "id": "58914b10-07d5-41dc-b8d9-fa3bfe4fcd84",
   "metadata": {
    "lines_to_next_cell": 0
   },
   "source": [
    "## Why this package?\n",
    "\n",
    "The HackRF device is designed for software-defined radio applications, providing a versatile platform for experimentation and development. This package facilitates easy access to its functionality, allowing users to quickly implement and test their ideas.\n",
    "\n",
    "- Supports a wide range of frequencies\n",
    "- Compatible with various software frameworks\n",
    "- Ideal for educational purposes and research"
   ]
  },
  {
   "cell_type": "markdown",
   "id": "35eb8658-4a3f-4a3c-81e2-331fba91172c",
   "metadata": {
    "editable": true,
    "slideshow": {
     "slide_type": ""
    },
    "tags": []
   },
   "source": [
    "## Sweep Scanning\n",
    "\n",
    "This package implements sweep scanning effectively, allowing users to specify frequency bands, sample rates, and step widths for scanning radio frequencies. The asynchronous scanning process captures filtered data, enabling real-time analysis and visualization of signals across the specified frequency ranges.\n",
    "\n",
    "Users can define custom callback functions to process the scanned data, providing flexibility for different applications, whether for educational purposes, signal detection, or research."
   ]
  },
  {
   "cell_type": "markdown",
   "id": "e692e9d2-3566-48b8-a663-83a534eca3c9",
   "metadata": {
    "editable": true,
    "slideshow": {
     "slide_type": ""
    },
    "tags": []
   },
   "source": [
    "![Sweep Scanning](_images/sweep.png \"Sweep Scanning\")"
   ]
  },
  {
   "cell_type": "markdown",
   "id": "e6464ab5-ba7d-45c9-8854-3e1e2eeae8c2",
   "metadata": {
    "editable": true,
    "slideshow": {
     "slide_type": ""
    },
    "tags": []
   },
   "source": [
    "For example, to configure FM scanning, you can use the following setup:"
   ]
  },
  {
   "cell_type": "markdown",
   "id": "30c8ea95-0f6f-4d54-b8fc-00d702928ca5",
   "metadata": {
    "editable": true,
    "slideshow": {
     "slide_type": ""
    },
    "tags": []
   },
   "source": [
    "![Sweep Scanning](_images/sweepFM.png \"Sweep Scanning\")"
   ]
  },
  {
   "cell_type": "markdown",
   "id": "01fd318d-8f5a-44ad-a55a-81ef52d00585",
   "metadata": {
    "editable": true,
    "slideshow": {
     "slide_type": ""
    },
    "tags": []
   },
   "source": [
    "This configuration allows you to scan the FM broadcast band from 88 MHz to 108 MHz, with a sample rate of 8 MHz, stepping 2 MHz at a time. The `step_offset` can be adjusted as needed for specific scenarios."
   ]
  }
 ],
 "metadata": {
  "jupytext": {
   "formats": "ipynb,py:percent"
  },
  "kernelspec": {
   "display_name": "Python 3 (ipykernel)",
   "language": "python",
   "name": "python3"
  },
  "language_info": {
   "codemirror_mode": {
    "name": "ipython",
    "version": 3
   },
   "file_extension": ".py",
   "mimetype": "text/x-python",
   "name": "python",
   "nbconvert_exporter": "python",
   "pygments_lexer": "ipython3",
   "version": "3.12.2"
  }
 },
 "nbformat": 4,
 "nbformat_minor": 5
}
