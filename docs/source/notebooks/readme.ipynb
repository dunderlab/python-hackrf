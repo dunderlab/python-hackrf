{
 "cells": [
  {
   "cell_type": "markdown",
   "id": "6bd81ddc-0108-4f60-a9d4-b05210b31c4c",
   "metadata": {},
   "source": [
    "# Python HackRF"
   ]
  },
  {
   "cell_type": "markdown",
   "id": "fe5c23d2-f725-41c6-b7e8-3c8155392758",
   "metadata": {},
   "source": [
    "## Installation Instructions\n",
    "\n",
    "To install the required dependencies for this project, you can use the following command:\n",
    "\n",
    "```bash\n",
    "pip install libhackrf\n",
    "```"
   ]
  },
  {
   "cell_type": "markdown",
   "id": "58914b10-07d5-41dc-b8d9-fa3bfe4fcd84",
   "metadata": {
    "lines_to_next_cell": 0
   },
   "source": [
    "## Why this package?\n",
    "\n",
    "The HackRF device is designed for software-defined radio applications, providing a versatile platform for experimentation and development. This package facilitates easy access to its functionality, allowing users to quickly implement and test their ideas.\n",
    "\n",
    "- Supports a wide range of frequencies\n",
    "- Compatible with various software frameworks\n",
    "- Ideal for educational purposes and research"
   ]
  },
  {
   "cell_type": "markdown",
   "id": "35eb8658-4a3f-4a3c-81e2-331fba91172c",
   "metadata": {},
   "source": [
    "## Sweep Scanning\n",
    "\n",
    "This package implements sweep scanning effectively, allowing users to specify frequency bands, sample rates, and step widths for scanning radio frequencies. The asynchronous scanning process captures filtered data, enabling real-time analysis and visualization of signals across the specified frequency ranges.\n",
    "\n",
    "Users can define custom callback functions to process the scanned data, providing flexibility for different applications, whether for educational purposes, signal detection, or research."
   ]
  },
  {
   "cell_type": "markdown",
   "id": "e692e9d2-3566-48b8-a663-83a534eca3c9",
   "metadata": {},
   "source": [
    "![Sweep Scanning](_images/sweep.png \"Sweep Scanning\")"
   ]
  },
  {
   "cell_type": "code",
   "execution_count": null,
   "id": "c98bfb4c-bfc2-4522-bbe3-5de55a77e6a3",
   "metadata": {},
   "outputs": [],
   "source": []
  }
 ],
 "metadata": {
  "jupytext": {
   "formats": "ipynb,py:percent"
  },
  "kernelspec": {
   "display_name": "Python 3 (ipykernel)",
   "language": "python",
   "name": "python3"
  },
  "language_info": {
   "codemirror_mode": {
    "name": "ipython",
    "version": 3
   },
   "file_extension": ".py",
   "mimetype": "text/x-python",
   "name": "python",
   "nbconvert_exporter": "python",
   "pygments_lexer": "ipython3",
   "version": "3.12.2"
  }
 },
 "nbformat": 4,
 "nbformat_minor": 5
}
